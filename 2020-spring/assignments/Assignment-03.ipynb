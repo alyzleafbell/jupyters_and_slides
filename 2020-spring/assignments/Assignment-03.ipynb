{
 "cells": [
  {
   "cell_type": "markdown",
   "metadata": {},
   "source": [
    "## Assignment-03 First Step of Machine Learning: Model and Evaluation"
   ]
  },
  {
   "cell_type": "markdown",
   "metadata": {},
   "source": [
    "同学们，今天我们的学习了基本的机器学习概念，相比你已经对机器学习的这些方法有一个基本的认识了。值得说明的是，机器学习不仅仅是一系列方法，更重要的是一种思维体系，即：依据以往的、现有的数据，构建某种方法来解决未见过的问题。而且决策树，贝叶斯只是实现这个目标的一个方法，包括之后的神经网络。很有可能有一天，神经网络也会被淘汰，但是重要的是我们要理解机器学习的目标，就是尽可能的自动化解决未知的问题。"
   ]
  },
  {
   "cell_type": "markdown",
   "metadata": {},
   "source": [
    "![](https://timgsa.baidu.com/timg?image&quality=80&size=b9999_10000&sec=1571556399207&di=4a97dc15ad08dd49d3748d1edf6109b3&imgtype=0&src=http%3A%2F%2Fc.hiphotos.baidu.com%2Fzhidao%2Fwh%3D450%2C600%2Fsign%3Dae742c6aedcd7b89e93932873a146e91%2F5d6034a85edf8db1b16050c40223dd54574e74c7.jpg)"
   ]
  },
  {
   "cell_type": "markdown",
   "metadata": {},
   "source": [
    "## Part-1 Programming Review 编程回顾"
   ]
  },
  {
   "cell_type": "markdown",
   "metadata": {},
   "source": [
    "#### 1. Re-code the Linear-Regression Model using scikit-learning(10 points)"
   ]
  },
  {
   "cell_type": "markdown",
   "metadata": {},
   "source": [
    "<评阅点>： \n",
    "> + 是否完成线性回归模型 (4')\n",
    "+ 能够进行预测新数据(3')\n",
    "+ 能够进行可视化操作(3')"
   ]
  },
  {
   "cell_type": "code",
   "execution_count": 27,
   "metadata": {},
   "outputs": [
    {
     "data": {
      "text/plain": [
       "array([0.70453469, 0.6202538 , 0.42056889, 0.0337523 , 0.64946408,\n",
       "       0.25240364, 0.27005322, 0.78991391, 0.26520719, 0.30350205,\n",
       "       0.53537962, 0.89809374, 0.04971363, 0.98646059, 0.66913209,\n",
       "       0.07293736, 0.79674638, 0.3877931 , 0.77702124, 0.74592701])"
      ]
     },
     "execution_count": 27,
     "metadata": {},
     "output_type": "execute_result"
    }
   ],
   "source": [
    "# Linear-Regression\n",
    "# 随机产生两系列数据\n",
    "import numpy as np\n",
    "import random\n",
    "random_data = np.random.random((20, 2))\n",
    "X = random_data[:,0]\n",
    "def assuming_function(x):\n",
    "    # 在我们的日常生活中是常见的\n",
    "    # 体重 -> 高血压的概率\n",
    "    # 收入 -> 买阿玛尼的概率\n",
    "    # 其实都是一种潜在的函数关系 + 一个随机变化\n",
    "    return 15.8 * x + 5+np.random.randint(-5,5)\n",
    "\n",
    "X"
   ]
  },
  {
   "cell_type": "code",
   "execution_count": 28,
   "metadata": {},
   "outputs": [],
   "source": [
    "y = [assuming_function(x) for x in X]"
   ]
  },
  {
   "cell_type": "code",
   "execution_count": 29,
   "metadata": {},
   "outputs": [
    {
     "data": {
      "image/png": "[encoded data removed]",
      "text/plain": [
       "<Figure size 432x288 with 1 Axes>"
      ]
     },
     "metadata": {
      "needs_background": "light"
     },
     "output_type": "display_data"
    }
   ],
   "source": [
    "# plot data\n",
    "import matplotlib.pyplot as plt\n",
    "plt.scatter(X,y)\n",
    "plt.show()"
   ]
  },
  {
   "cell_type": "code",
   "execution_count": 31,
   "metadata": {},
   "outputs": [
    {
     "data": {
      "text/plain": [
       "0.6589227908087694"
      ]
     },
     "execution_count": 31,
     "metadata": {},
     "output_type": "execute_result"
    }
   ],
   "source": [
    "# fit and predict\n",
    "from sklearn.linear_model import LinearRegression\n",
    "reg = LinearRegression().fit(X.reshape(-1, 1), y)\n",
    "reg.score(X.reshape(-1, 1), y)"
   ]
  },
  {
   "cell_type": "code",
   "execution_count": 32,
   "metadata": {},
   "outputs": [
    {
     "data": {
      "text/plain": [
       "[<matplotlib.lines.Line2D at 0x2a369905ac8>]"
      ]
     },
     "execution_count": 32,
     "metadata": {},
     "output_type": "execute_result"
    },
    {
     "data": {
      "image/png": "[encoded data removed]",
      "text/plain": [
       "<Figure size 432x288 with 1 Axes>"
      ]
     },
     "metadata": {
      "needs_background": "light"
     },
     "output_type": "display_data"
    }
   ],
   "source": [
    "# predict model\n",
    "def fit(x): \n",
    "    return reg.coef_ * x + reg.intercept_\n",
    "# plot fit line\n",
    "plt.scatter(X,y)\n",
    "plt.plot(X, fit(X), color='red')"
   ]
  },
  {
   "cell_type": "code",
   "execution_count": 40,
   "metadata": {},
   "outputs": [
    {
     "data": {
      "text/plain": [
       "array([17.63725923])"
      ]
     },
     "execution_count": 40,
     "metadata": {},
     "output_type": "execute_result"
    }
   ],
   "source": [
    "# reg.predict([[0.9]])==fit(0.9)\n",
    "reg.predict([[0.9]])"
   ]
  },
  {
   "cell_type": "markdown",
   "metadata": {},
   "source": [
    "#### 2. Complete the unfinished KNN Model using pure python to solve the previous Line-Regression problem. (8 points)"
   ]
  },
  {
   "cell_type": "markdown",
   "metadata": {},
   "source": [
    "<评阅点>:\n",
    "> + 是否完成了KNN模型 (4')\n",
    "+ 是否能够预测新的数据 (4')"
   ]
  },
  {
   "cell_type": "code",
   "execution_count": 41,
   "metadata": {},
   "outputs": [],
   "source": [
    "# KNN\n",
    "from scipy.spatial.distance import cosine\n",
    "def model(X, y):\n",
    "    # 直接存储 X,y 即可\n",
    "    return [(Xi, yi) for Xi, yi in zip(X, y)]\n",
    "def distance(x1, x2):\n",
    "    return cosine(x1, x2)\n",
    "def predict(mymodel,x, k=3):\n",
    "    # 在predicate的时候，需要做大量的计算\n",
    "    most_similars = sorted(mymodel, key=lambda xi: distance(xi[0], x))[:k]\n",
    "    y_hats = [_y for x, _y in most_similars]\n",
    "    print(most_similars)\n",
    "    return np.mean(y_hats)"
   ]
  },
  {
   "cell_type": "code",
   "execution_count": 42,
   "metadata": {},
   "outputs": [
    {
     "name": "stdout",
     "output_type": "stream",
     "text": [
      "[(0.789913907257494, 19.480639734668408), (0.30350204596985153, 6.7953323263236545), (0.6691320945020902, 17.572287093133028)]\n"
     ]
    },
    {
     "data": {
      "text/plain": [
       "14.616086384708362"
      ]
     },
     "execution_count": 42,
     "metadata": {},
     "output_type": "execute_result"
    }
   ],
   "source": [
    "my_knn = model(X, y)\n",
    "predict(my_knn,0.9)"
   ]
  },
  {
   "cell_type": "markdown",
   "metadata": {},
   "source": [
    "#### 3. Re-code the Decision Tree, which could sort the features by salience. (12 points)"
   ]
  },
  {
   "cell_type": "markdown",
   "metadata": {},
   "source": [
    "<评阅点>\n",
    "> + 是否实现了信息熵 (1' )\n",
    "+ 是否实现了最优先特征点的选择(5')\n",
    "+ 是否实现了持续的特征选则(6')"
   ]
  },
  {
   "cell_type": "code",
   "execution_count": 45,
   "metadata": {},
   "outputs": [],
   "source": [
    "# Decision Tree\n",
    "# entropy\n",
    "from collections import Counter \n",
    "from icecream import ic\n",
    "def entropy(elements):\n",
    "    '''群体的混乱程度'''\n",
    "    counter = Counter(elements)\n",
    "    probs = [counter[c] / len(elements) for c in set(elements)]\n",
    "    ic(probs)\n",
    "    return - sum(p * np.log(p) for p in probs)\n"
   ]
  },
  {
   "cell_type": "code",
   "execution_count": 52,
   "metadata": {},
   "outputs": [],
   "source": [
    "# find the optimal feature as the spilter of Decision Tree\n",
    "def find_the_optimal_spilter(training_data: pd.DataFrame, target: str) -> str:\n",
    "    x_fields = set(training_data.columns.tolist()) - {target}\n",
    "    \n",
    "    spliter = None\n",
    "    min_entropy = float('inf')\n",
    "    \n",
    "    for f in x_fields:\n",
    "        ic(f)\n",
    "        values = set(training_data[f])\n",
    "        ic(values)\n",
    "        for v in values:\n",
    "            sub_split_1 = training_data[training_data[f] == v][target].tolist()\n",
    "            ic(sub_split_1)\n",
    "            # split by the current feature and one value\n",
    "            \n",
    "            entropy_1 = entropy(sub_split_1)\n",
    "            ic(entropy_1)\n",
    "            \n",
    "            sub_split_2 = training_data[training_data[f] != v][target].tolist()\n",
    "            ic(sub_split_2)\n",
    "            \n",
    "            entropy_2 = entropy(sub_split_2)\n",
    "            ic(entropy_2)\n",
    "            \n",
    "            entropy_v = entropy_1 + entropy_2\n",
    "            ic(entropy_v)\n",
    "            \n",
    "            if entropy_v <= min_entropy:\n",
    "                min_entropy = entropy_v\n",
    "                spliter = (f, v)\n",
    "    \n",
    "    print('spliter is: {}'.format(spliter))\n",
    "    print('the min entropy is: {}'.format(min_entropy))\n",
    "    \n",
    "    return spliter"
   ]
  },
  {
   "cell_type": "code",
   "execution_count": 53,
   "metadata": {},
   "outputs": [],
   "source": [
    "mock_data = {\n",
    "    'gender':['F', 'F', 'F', 'F', 'M', 'M', 'M'],\n",
    "    'income': ['+10', '-10', '+10', '+10', '+10', '+10', '-10'],\n",
    "    'family_number': [1, 1, 2, 1, 1, 1, 2],\n",
    "   # 'pet': [1, 1, 1, 0, 0, 0, 1],\n",
    "    'bought': [1, 1, 1, 0, 0, 0, 1],\n",
    "}\n",
    "import pandas as pd\n",
    "dataset = pd.DataFrame.from_dict(mock_data)"
   ]
  },
  {
   "cell_type": "code",
   "execution_count": 54,
   "metadata": {},
   "outputs": [
    {
     "name": "stderr",
     "output_type": "stream",
     "text": [
      "ic| f: 'gender'\n",
      "ic| values: {'M', 'F'}\n",
      "ic| sub_split_1: [0, 0, 1]\n",
      "ic| probs: [0.6666666666666666, 0.3333333333333333]\n",
      "ic| entropy_1: 0.6365141682948128\n",
      "ic| sub_split_2: [1, 1, 1, 0]\n",
      "ic| probs: [0.25, 0.75]\n",
      "ic| entropy_2: 0.5623351446188083\n",
      "ic| entropy_v: 1.198849312913621\n",
      "ic| sub_split_1: [1, 1, 1, 0]\n",
      "ic| probs: [0.25, 0.75]\n",
      "ic| entropy_1: 0.5623351446188083\n",
      "ic| sub_split_2: [0, 0, 1]\n",
      "ic| probs: [0.6666666666666666, 0.3333333333333333]\n",
      "ic| entropy_2: 0.6365141682948128\n",
      "ic| entropy_v: 1.198849312913621\n",
      "ic| f: 'income'\n",
      "ic| values: {'-10', '+10'}\n",
      "ic| sub_split_1: [1, 1]\n",
      "ic| probs: [1.0]\n",
      "ic| entropy_1: -0.0\n",
      "ic| sub_split_2: [1, 1, 0, 0, 0]\n",
      "ic| probs: [0.6, 0.4]\n",
      "ic| entropy_2: 0.6730116670092565\n",
      "ic| entropy_v: 0.6730116670092565\n",
      "ic| sub_split_1: [1, 1, 0, 0, 0]\n",
      "ic| probs: [0.6, 0.4]\n",
      "ic| entropy_1: 0.6730116670092565\n",
      "ic| sub_split_2: [1, 1]\n",
      "ic| probs: [1.0]\n",
      "ic| entropy_2: -0.0\n",
      "ic| entropy_v: 0.6730116670092565\n",
      "ic| f: 'family_number'\n",
      "ic| values: {1, 2}\n",
      "ic| sub_split_1: [1, 1, 0, 0, 0]\n",
      "ic| probs: [0.6, 0.4]\n",
      "ic| entropy_1: 0.6730116670092565\n",
      "ic| sub_split_2: [1, 1]\n",
      "ic| probs: [1.0]\n",
      "ic| entropy_2: -0.0\n",
      "ic| entropy_v: 0.6730116670092565\n",
      "ic| sub_split_1: [1, 1]\n",
      "ic| probs: [1.0]\n",
      "ic| entropy_1: -0.0\n",
      "ic| sub_split_2: [1, 1, 0, 0, 0]\n",
      "ic| probs: [0.6, 0.4]\n",
      "ic| entropy_2: 0.6730116670092565\n",
      "ic| entropy_v: 0.6730116670092565\n"
     ]
    },
    {
     "name": "stdout",
     "output_type": "stream",
     "text": [
      "spliter is: ('family_number', 2)\n",
      "the min entropy is: 0.6730116670092565\n"
     ]
    },
    {
     "data": {
      "text/plain": [
       "('family_number', 2)"
      ]
     },
     "execution_count": 54,
     "metadata": {},
     "output_type": "execute_result"
    }
   ],
   "source": [
    "find_the_optimal_spilter(training_data=dataset, target='bought')\n"
   ]
  },
  {
   "cell_type": "code",
   "execution_count": 55,
   "metadata": {},
   "outputs": [
    {
     "name": "stderr",
     "output_type": "stream",
     "text": [
      "ic| f: 'gender'\n",
      "ic| values: {'M', 'F'}\n",
      "ic| sub_split_1: [0, 0]\n",
      "ic| probs: [1.0]\n",
      "ic| entropy_1: -0.0\n",
      "ic| sub_split_2: [1, 1, 0]\n",
      "ic| probs: [0.3333333333333333, 0.6666666666666666]\n",
      "ic| entropy_2: 0.6365141682948128\n",
      "ic| entropy_v: 0.6365141682948128\n",
      "ic| sub_split_1: [1, 1, 0]\n",
      "ic| probs: [0.3333333333333333, 0.6666666666666666]\n",
      "ic| entropy_1: 0.6365141682948128\n",
      "ic| sub_split_2: [0, 0]\n",
      "ic| probs: [1.0]\n",
      "ic| entropy_2: -0.0\n",
      "ic| entropy_v: 0.6365141682948128\n",
      "ic| f: 'income'\n",
      "ic| values: {'-10', '+10'}\n",
      "ic| sub_split_1: [1]\n",
      "ic| probs: [1.0]\n",
      "ic| entropy_1: -0.0\n",
      "ic| sub_split_2: [1, 0, 0, 0]\n",
      "ic| probs: [0.75, 0.25]\n",
      "ic| entropy_2: 0.5623351446188083\n",
      "ic| entropy_v: 0.5623351446188083\n",
      "ic| sub_split_1: [1, 0, 0, 0]\n",
      "ic| probs: [0.75, 0.25]\n",
      "ic| entropy_1: 0.5623351446188083\n",
      "ic| sub_split_2: [1]\n",
      "ic| probs: [1.0]\n",
      "ic| entropy_2: -0.0\n",
      "ic| entropy_v: 0.5623351446188083\n",
      "ic| f: 'family_number'\n",
      "ic| values: {1}\n",
      "ic| sub_split_1: [1, 1, 0, 0, 0]\n",
      "ic| probs: [0.6, 0.4]\n",
      "ic| entropy_1: 0.6730116670092565\n",
      "ic| sub_split_2: []\n",
      "ic| probs: []\n",
      "ic| entropy_2: 0\n",
      "ic| entropy_v: 0.6730116670092565\n"
     ]
    },
    {
     "name": "stdout",
     "output_type": "stream",
     "text": [
      "spliter is: ('income', '+10')\n",
      "the min entropy is: 0.5623351446188083\n"
     ]
    },
    {
     "data": {
      "text/plain": [
       "('income', '+10')"
      ]
     },
     "execution_count": 55,
     "metadata": {},
     "output_type": "execute_result"
    }
   ],
   "source": [
    "find_the_optimal_spilter(dataset[dataset['family_number'] == 1], 'bought')"
   ]
  },
  {
   "cell_type": "code",
   "execution_count": 56,
   "metadata": {},
   "outputs": [
    {
     "name": "stderr",
     "output_type": "stream",
     "text": [
      "ic| f: 'gender'\n",
      "ic| values: {'M', 'F'}\n",
      "ic| sub_split_1: [0, 0]\n",
      "ic| probs: [1.0]\n",
      "ic| entropy_1: -0.0\n",
      "ic| sub_split_2: [1, 0]\n",
      "ic| probs: [0.5, 0.5]\n",
      "ic| entropy_2: 0.6931471805599453\n",
      "ic| entropy_v: 0.6931471805599453\n",
      "ic| sub_split_1: [1, 0]\n",
      "ic| probs: [0.5, 0.5]\n",
      "ic| entropy_1: 0.6931471805599453\n",
      "ic| sub_split_2: [0, 0]\n",
      "ic| probs: [1.0]\n",
      "ic| entropy_2: -0.0\n",
      "ic| entropy_v: 0.6931471805599453\n",
      "ic| f: 'income'\n",
      "ic| values: {'+10'}\n",
      "ic| sub_split_1: [1, 0, 0, 0]\n",
      "ic| probs: [0.75, 0.25]\n",
      "ic| entropy_1: 0.5623351446188083\n",
      "ic| sub_split_2: []\n",
      "ic| probs: []\n",
      "ic| entropy_2: 0\n",
      "ic| entropy_v: 0.5623351446188083\n",
      "ic| f: 'family_number'\n",
      "ic| values: {1}\n",
      "ic| sub_split_1: [1, 0, 0, 0]\n",
      "ic| probs: [0.75, 0.25]\n",
      "ic| entropy_1: 0.5623351446188083\n",
      "ic| sub_split_2: []\n",
      "ic| probs: []\n",
      "ic| entropy_2: 0\n",
      "ic| entropy_v: 0.5623351446188083\n"
     ]
    },
    {
     "name": "stdout",
     "output_type": "stream",
     "text": [
      "spliter is: ('family_number', 1)\n",
      "the min entropy is: 0.5623351446188083\n"
     ]
    },
    {
     "data": {
      "text/plain": [
       "('family_number', 1)"
      ]
     },
     "execution_count": 56,
     "metadata": {},
     "output_type": "execute_result"
    }
   ],
   "source": [
    "fm_n_1 = dataset[dataset['family_number'] == 1]\n",
    "fm_n_1[fm_n_1['income'] == '+10']\n",
    "find_the_optimal_spilter(fm_n_1[fm_n_1['income'] == '+10'], 'bought')"
   ]
  },
  {
   "cell_type": "markdown",
   "metadata": {},
   "source": [
    "#### 4. Finish the K-Means using 2-D matplotlib (8 points)"
   ]
  },
  {
   "cell_type": "markdown",
   "metadata": {},
   "source": [
    "<评阅点>\n",
    "> + 是否完成了KMeans模型，基于scikit-learning (3')\n",
    "+ 是否完成了可视化任务（5'）"
   ]
  },
  {
   "cell_type": "code",
   "execution_count": 57,
   "metadata": {},
   "outputs": [
    {
     "data": {
      "text/plain": [
       "<matplotlib.collections.PathCollection at 0x2a36a706470>"
      ]
     },
     "execution_count": 57,
     "metadata": {},
     "output_type": "execute_result"
    },
    {
     "data": {
      "image/png": "[encoded data removed]",
      "text/plain": [
       "<Figure size 432x288 with 1 Axes>"
      ]
     },
     "metadata": {
      "needs_background": "light"
     },
     "output_type": "display_data"
    }
   ],
   "source": [
    "X1 = [random.randint(0, 100) for _ in range(100)]\n",
    "X2 = [random.randint(0, 100) for _ in range(100)]\n",
    "plt.scatter(X1, X2)"
   ]
  },
  {
   "cell_type": "code",
   "execution_count": 58,
   "metadata": {},
   "outputs": [
    {
     "data": {
      "text/plain": [
       "array([[81.25      , 68.8       ],\n",
       "       [13.72727273, 10.54545455],\n",
       "       [35.39130435, 84.30434783],\n",
       "       [88.72222222, 25.11111111],\n",
       "       [30.27777778, 47.61111111],\n",
       "       [46.4       , 15.1       ]])"
      ]
     },
     "execution_count": 58,
     "metadata": {},
     "output_type": "execute_result"
    }
   ],
   "source": [
    "tranning_data = [[x1, x2] for x1, x2 in zip(X1, X2)]\n",
    "from sklearn.cluster import KMeans\n",
    "cluster = KMeans(n_clusters=6, max_iter=500)\n",
    "cluster.fit(tranning_data)\n",
    "cluster.cluster_centers_"
   ]
  },
  {
   "cell_type": "code",
   "execution_count": 59,
   "metadata": {},
   "outputs": [
    {
     "data": {
      "text/plain": [
       "array([4, 4, 0, 2, 4, 4, 2, 2, 4, 2, 2, 4, 3, 2, 0, 2, 0, 1, 4, 0, 4, 4,\n",
       "       2, 2, 2, 2, 3, 4, 5, 5, 5, 0, 3, 4, 3, 3, 1, 0, 3, 0, 5, 3, 3, 5,\n",
       "       3, 5, 4, 5, 4, 0, 0, 3, 3, 1, 0, 2, 3, 0, 3, 2, 2, 0, 2, 3, 2, 0,\n",
       "       1, 1, 4, 0, 5, 3, 2, 2, 1, 0, 2, 4, 3, 1, 3, 0, 0, 1, 2, 5, 3, 4,\n",
       "       2, 0, 1, 0, 2, 1, 4, 0, 5, 1, 4, 2])"
      ]
     },
     "execution_count": 59,
     "metadata": {},
     "output_type": "execute_result"
    }
   ],
   "source": [
    "cluster.labels_"
   ]
  },
  {
   "cell_type": "code",
   "execution_count": 60,
   "metadata": {},
   "outputs": [
    {
     "data": {
      "image/png": "[encoded data removed]",
      "text/plain": [
       "<Figure size 432x288 with 1 Axes>"
      ]
     },
     "metadata": {
      "needs_background": "light"
     },
     "output_type": "display_data"
    }
   ],
   "source": [
    "from collections import defaultdict\n",
    "centers = defaultdict(list)\n",
    "for label, location in zip(cluster.labels_, tranning_data):\n",
    "    centers[label].append(location)\n",
    "    \n",
    "color = ['red', 'green', 'grey', 'black', 'yellow', 'orange']\n",
    "\n",
    "for i, c in enumerate(centers):\n",
    "    for location in centers[c]:\n",
    "        plt.scatter(*location, c=color[i])\n",
    "        \n",
    "for center in cluster.cluster_centers_:\n",
    "    plt.scatter(*center, s=100)"
   ]
  },
  {
   "cell_type": "markdown",
   "metadata": {},
   "source": [
    "## Part-2 Question and Answer 问答"
   ]
  },
  {
   "cell_type": "markdown",
   "metadata": {},
   "source": [
    "#### 1. What's the *model*? why  all the models are wrong, but some are useful? (5 points) "
   ]
  },
  {
   "cell_type": "markdown",
   "metadata": {},
   "source": [
    "Ans: 模型是通过训练大量数据，从数据中获得“经验”，拟合实际的规律，用来预测新数据。没有模型是能完全描述实际的，但我们并不需要完美的模型，只要模型对实践有推动指导作用，就是有用的模型。"
   ]
  },
  {
   "cell_type": "markdown",
   "metadata": {},
   "source": [
    "<评阅点>\n",
    "> + 对模型的理解是否正确,对模型的抽象性是否正确(5')"
   ]
  },
  {
   "cell_type": "markdown",
   "metadata": {},
   "source": [
    "#### 2. What's the underfitting and overfitting? List the reasons that could make model overfitting or underfitting. (10 points)"
   ]
  },
  {
   "cell_type": "markdown",
   "metadata": {},
   "source": [
    "Ans:Underfitting means bias is too much, while overfitting means variance is too much. \n",
    "Reasons for overfitting:Taking noises as features, memorize too much details of training data,while generalization is not enough.\n",
    "Reasons for underfitting: The ability of the learning model is weak, while the data is too complex."
   ]
  },
  {
   "cell_type": "markdown",
   "metadata": {},
   "source": [
    "<评阅点>\n",
    "> + 对过拟合和欠拟合的理解是否正确 (3')\n",
    "+ 对欠拟合产生的原因是否理解正确(2')\n",
    "+ 对过拟合产生的原因是否理解正确(5')"
   ]
  },
  {
   "cell_type": "markdown",
   "metadata": {},
   "source": [
    "#### 3. What's the precision, recall, AUC, F1, F2score. What are they mainly target on? (12')"
   ]
  },
  {
   "cell_type": "markdown",
   "metadata": {},
   "source": [
    "Ans:\n",
    "- Precision：P=TP/(TP+FP) 精准率（查准率） 它表示的是预测为正的样本中有多少是真正的正样本;\n",
    "- Recall: R = R=TP/(TP+FN) 召回率（查全率 ） 它表示的是所有正样本中被预测准确的比率；\n",
    "- AUC: Area under curve(ROC).用TPR和FPR形成的曲线平滑度和该曲线下的面积大小，衡量模型的好坏\n",
    "- F1-score：2/(1/P+1/R)，其中的P指查准率，R指查全率，F1是两个率重要性相当的评估指标。 \n",
    "- F2-score: 来自Fbeta，beta=2, 此评估指标更适用于重视查全率的应用场景，比如癌症患者预测。"
   ]
  },
  {
   "cell_type": "markdown",
   "metadata": {},
   "source": [
    "<评阅点>\n",
    "> + 对precision, recall, AUC, F1, F2 理解是否正确(6‘)\n",
    "+ 对precision, recall, AUC, F1, F2的使用侧重点是否理解正确 (6’)"
   ]
  },
  {
   "cell_type": "markdown",
   "metadata": {},
   "source": [
    "#### 4. Based on our course and yourself mind, what's the machine learning?  (8')"
   ]
  },
  {
   "cell_type": "markdown",
   "metadata": {},
   "source": [
    "Ans: 机器学习就是通过学习历史数据，找出历史数据中的特征规律，获得“经验”，从而具备预测推断的智能，形成可预测新数据的模型。传统的分析式编程，所有的规律都需要提前内置在程序或算法中。"
   ]
  },
  {
   "cell_type": "markdown",
   "metadata": {},
   "source": [
    "<评阅点> 开放式问题，是否能说出来机器学习这种思维方式和传统的分析式编程的区别（8'）"
   ]
  },
  {
   "cell_type": "markdown",
   "metadata": {},
   "source": [
    "#### 5. \"正确定义了机器学习模型的评价标准(evaluation)， 问题基本上就已经解决一半\". 这句话是否正确？你是怎么看待的？ (8‘)"
   ]
  },
  {
   "cell_type": "code",
   "execution_count": null,
   "metadata": {},
   "outputs": [],
   "source": [
    "Ans：这句话非常正确！评价模型好坏的指标众多，但不同的指标适用不同的场景，有的侧重查全率，有的适用精准度，如果能正确定义合适的评价标准，\n",
    "在模型测试过程中就能及时调整优化各类参数，否则，错误的评价标准可能会使得所有的调参南辕北辙。"
   ]
  },
  {
   "cell_type": "markdown",
   "metadata": {},
   "source": [
    "<评阅点> 开放式问题，主要看能理解评价指标对机器学习模型的重要性."
   ]
  },
  {
   "cell_type": "markdown",
   "metadata": {},
   "source": [
    "## Part-03 Programming Practice 编程练习"
   ]
  },
  {
   "cell_type": "markdown",
   "metadata": {},
   "source": [
    "1. In our course and previous practice, we complete some importance components of Decision Tree. In this problem, you need to build a **completed** Decision Tree Model. You show finish a `predicate()` function, which accepts three parameters **<gender, income, family_number>**, and outputs the predicated 'bought': 1 or 0.  (20 points)"
   ]
  },
  {
   "cell_type": "code",
   "execution_count": 95,
   "metadata": {},
   "outputs": [],
   "source": [
    "# Perdicate based on Desicion Tree\n",
    "# loop findoptimalspliter(f,v)\n",
    "# filter dataset by (f,v),check labels left\n",
    "# if labels unique, that is the result\n",
    "# if loop end & labels not unique, choose the mode as the result\n",
    "mock_data = {\n",
    "    'gender':['F', 'F', 'F', 'F', 'M', 'M', 'M'],\n",
    "    'income': ['+10', '-10', '+10', '+10', '+10', '+10', '-10'],\n",
    "    'family_number': [1, 1, 2, 1, 1, 1, 2],\n",
    "   # 'pet': [1, 1, 1, 0, 0, 0, 1],\n",
    "    'bought': [1, 1, 1, 0, 0, 0, 1],\n",
    "}\n",
    "import pandas as pd\n",
    "dataset = pd.DataFrame.from_dict(mock_data)\n",
    "def predict(gender,income,family_number):\n",
    "    testdict={'gender':gender,'income':income,'family_number':family_number}\n",
    "    training_data=dataset\n",
    "    for i in range(len(testdict)):\n",
    "        (f,v) = find_the_optimal_spilter(training_data, target='bought')\n",
    "\n",
    "        if testdict[f]==v:\n",
    "            training_data = training_data[dataset[f]==v]\n",
    "        else:\n",
    "            training_data= training_data[dataset[f]!=v]\n",
    "        labels = set(training_data['bought'])\n",
    "        if len(labels)==1:\n",
    "            return list(labels)[0]\n",
    "    return Counter(training_data['bought']).most_common()[0][0]\n",
    "    \n"
   ]
  },
  {
   "cell_type": "code",
   "execution_count": 96,
   "metadata": {},
   "outputs": [
    {
     "name": "stderr",
     "output_type": "stream",
     "text": [
      "ic| f: 'gender'\n",
      "ic| values: {'M', 'F'}\n",
      "ic| sub_split_1: [0, 0, 1]\n",
      "ic| probs: [0.6666666666666666, 0.3333333333333333]\n",
      "ic| entropy_1: 0.6365141682948128\n",
      "ic| sub_split_2: [1, 1, 1, 0]\n",
      "ic| probs: [0.25, 0.75]\n",
      "ic| entropy_2: 0.5623351446188083\n",
      "ic| entropy_v: 1.198849312913621\n",
      "ic| sub_split_1: [1, 1, 1, 0]\n",
      "ic| probs: [0.25, 0.75]\n",
      "ic| entropy_1: 0.5623351446188083\n",
      "ic| sub_split_2: [0, 0, 1]\n",
      "ic| probs: [0.6666666666666666, 0.3333333333333333]\n",
      "ic| entropy_2: 0.6365141682948128\n",
      "ic| entropy_v: 1.198849312913621\n",
      "ic| f: 'income'\n",
      "ic| values: {'-10', '+10'}\n",
      "ic| sub_split_1: [1, 1]\n",
      "ic| probs: [1.0]\n",
      "ic| entropy_1: -0.0\n",
      "ic| sub_split_2: [1, 1, 0, 0, 0]\n",
      "ic| probs: [0.6, 0.4]\n",
      "ic| entropy_2: 0.6730116670092565\n",
      "ic| entropy_v: 0.6730116670092565\n",
      "ic| sub_split_1: [1, 1, 0, 0, 0]\n",
      "ic| probs: [0.6, 0.4]\n",
      "ic| entropy_1: 0.6730116670092565\n",
      "ic| sub_split_2: [1, 1]\n",
      "ic| probs: [1.0]\n",
      "ic| entropy_2: -0.0\n",
      "ic| entropy_v: 0.6730116670092565\n",
      "ic| f: 'family_number'\n",
      "ic| values: {1, 2}\n",
      "ic| sub_split_1: [1, 1, 0, 0, 0]\n",
      "ic| probs: [0.6, 0.4]\n",
      "ic| entropy_1: 0.6730116670092565\n",
      "ic| sub_split_2: [1, 1]\n",
      "ic| probs: [1.0]\n",
      "ic| entropy_2: -0.0\n",
      "ic| entropy_v: 0.6730116670092565\n",
      "ic| sub_split_1: [1, 1]\n",
      "ic| probs: [1.0]\n",
      "ic| entropy_1: -0.0\n",
      "ic| sub_split_2: [1, 1, 0, 0, 0]\n",
      "ic| probs: [0.6, 0.4]\n",
      "ic| entropy_2: 0.6730116670092565\n",
      "ic| entropy_v: 0.6730116670092565\n",
      "ic| f: 'gender'\n",
      "ic| values: {'M', 'F'}\n",
      "ic| sub_split_1: [0, 0]\n",
      "ic| probs:"
     ]
    },
    {
     "name": "stdout",
     "output_type": "stream",
     "text": [
      "spliter is: ('family_number', 2)\n",
      "the min entropy is: 0.6730116670092565\n"
     ]
    },
    {
     "name": "stderr",
     "output_type": "stream",
     "text": [
      " [1.0]\n",
      "ic| entropy_1: -0.0\n",
      "ic| sub_split_2: [1, 1, 0]\n",
      "ic| probs: [0.3333333333333333, 0.6666666666666666]\n",
      "ic| entropy_2: 0.6365141682948128\n",
      "ic| entropy_v: 0.6365141682948128\n",
      "ic| sub_split_1: [1, 1, 0]\n",
      "ic| probs: [0.3333333333333333, 0.6666666666666666]\n",
      "ic| entropy_1: 0.6365141682948128\n",
      "ic| sub_split_2: [0, 0]\n",
      "ic| probs: [1.0]\n",
      "ic| entropy_2: -0.0\n",
      "ic| entropy_v: 0.6365141682948128\n",
      "ic| f: 'income'\n",
      "ic| values: {'-10', '+10'}\n",
      "ic| sub_split_1: [1]\n",
      "ic| probs: [1.0]\n",
      "ic| entropy_1: -0.0\n",
      "ic| sub_split_2: [1, 0, 0, 0]\n",
      "ic| probs: [0.75, 0.25]\n",
      "ic| entropy_2: 0.5623351446188083\n",
      "ic| entropy_v: 0.5623351446188083\n",
      "ic| sub_split_1: [1, 0, 0, 0]\n",
      "ic| probs: [0.75, 0.25]\n",
      "ic| entropy_1: 0.5623351446188083\n",
      "ic| sub_split_2: [1]\n",
      "ic| probs: [1.0]\n",
      "ic| entropy_2: -0.0\n",
      "ic| entropy_v: 0.5623351446188083\n",
      "ic| f: 'family_number'\n",
      "ic| values: {1}\n",
      "ic| sub_split_1: [1, 1, 0, 0, 0]\n",
      "ic| probs: [0.6, 0.4]\n",
      "ic| entropy_1: 0.6730116670092565\n",
      "ic| sub_split_2: []\n",
      "ic| probs: []\n",
      "ic| entropy_2: 0\n",
      "ic| entropy_v: 0.6730116670092565\n"
     ]
    },
    {
     "name": "stdout",
     "output_type": "stream",
     "text": [
      "spliter is: ('income', '+10')\n",
      "the min entropy is: 0.5623351446188083\n"
     ]
    },
    {
     "name": "stderr",
     "output_type": "stream",
     "text": [
      "D:\\Anaconda3\\lib\\site-packages\\ipykernel_launcher.py:24: UserWarning: Boolean Series key will be reindexed to match DataFrame index.\n"
     ]
    },
    {
     "data": {
      "text/plain": [
       "1"
      ]
     },
     "execution_count": 96,
     "metadata": {},
     "output_type": "execute_result"
    }
   ],
   "source": [
    "predict('F','10+',1)\n",
    "#dataset"
   ]
  },
  {
   "cell_type": "code",
   "execution_count": 104,
   "metadata": {},
   "outputs": [
    {
     "data": {
      "text/plain": [
       "1"
      ]
     },
     "execution_count": 104,
     "metadata": {},
     "output_type": "execute_result"
    }
   ],
   "source": [
    "Counter([1,0,3,1,0,1]).most_common()[0][0]"
   ]
  },
  {
   "cell_type": "markdown",
   "metadata": {},
   "source": [
    "<评阅点>\n",
    "> + 是否将之前的决策树模型的部分进行合并组装， predicate函数能够顺利运行(8')\n",
    "+ 是够能够输入未曾见过的X变量，例如gender, income, family_number 分别是： <M, -10, 1>, 模型能够预测出结果 (12')"
   ]
  },
  {
   "cell_type": "markdown",
   "metadata": {},
   "source": [
    "2. 将上一节课(第二节课)的线性回归问题中的Loss函数改成\"绝对值\"，并且改变其偏导的求值方式，观察其结果的变化。(19 point)"
   ]
  },
  {
   "cell_type": "code",
   "execution_count": 68,
   "metadata": {},
   "outputs": [],
   "source": [
    "from sklearn.datasets import load_boston\n",
    "import random\n",
    "dataset = load_boston()\n",
    "x,y=dataset['data'],dataset['target']\n",
    "X_rm = x[:,5]"
   ]
  },
  {
   "cell_type": "code",
   "execution_count": 66,
   "metadata": {},
   "outputs": [],
   "source": [
    "# Linear Regression\n",
    "def price(rm, k, b):\n",
    "    return k * rm + b\n",
    "# define loss function \n",
    "def loss(y,y_hat):\n",
    "    return sum(abs(y_i - y_hat_i) for y_i, y_hat_i in zip(list(y),list(y_hat)))/len(list(y))"
   ]
  },
  {
   "cell_type": "code",
   "execution_count": 64,
   "metadata": {},
   "outputs": [],
   "source": [
    "# define partial derivative \n",
    "def partial_derivative_k(x, y, y_hat): \n",
    "    n = len(y)\n",
    "    gradient = 0\n",
    "    for x_i in list(x):\n",
    "        gradient += abs(x_i)\n",
    "    return 1/n * gradient\n",
    "\n",
    "def partial_derivative_b():\n",
    "    return 0"
   ]
  },
  {
   "cell_type": "code",
   "execution_count": 70,
   "metadata": {},
   "outputs": [
    {
     "name": "stdout",
     "output_type": "stream",
     "text": [
      "Iteration 0, the loss is 469.48941202046007, parameters k is 62.73548128484424 and b is 97.75265535477467\n",
      "Iteration 1, the loss is 469.44991539107735, parameters k is 62.72919665045689 and b is 97.75265535477467\n",
      "Iteration 2, the loss is 469.410418761695, parameters k is 62.72291201606954 and b is 97.75265535477467\n",
      "Iteration 3, the loss is 469.3709221323117, parameters k is 62.716627381682194 and b is 97.75265535477467\n",
      "Iteration 4, the loss is 469.3314255029297, parameters k is 62.710342747294845 and b is 97.75265535477467\n",
      "Iteration 5, the loss is 469.29192887354657, parameters k is 62.7040581129075 and b is 97.75265535477467\n",
      "Iteration 6, the loss is 469.25243224416414, parameters k is 62.69777347852015 and b is 97.75265535477467\n",
      "Iteration 7, the loss is 469.21293561478143, parameters k is 62.6914888441328 and b is 97.75265535477467\n",
      "Iteration 8, the loss is 469.17343898539866, parameters k is 62.68520420974545 and b is 97.75265535477467\n",
      "Iteration 9, the loss is 469.13394235601646, parameters k is 62.6789195753581 and b is 97.75265535477467\n",
      "Iteration 10, the loss is 469.09444572663335, parameters k is 62.67263494097075 and b is 97.75265535477467\n",
      "Iteration 11, the loss is 469.05494909724985, parameters k is 62.6663503065834 and b is 97.75265535477467\n",
      "Iteration 12, the loss is 469.0154524678682, parameters k is 62.660065672196055 and b is 97.75265535477467\n",
      "Iteration 13, the loss is 468.97595583848477, parameters k is 62.653781037808706 and b is 97.75265535477467\n",
      "Iteration 14, the loss is 468.9364592091028, parameters k is 62.64749640342136 and b is 97.75265535477467\n",
      "Iteration 15, the loss is 468.8969625797203, parameters k is 62.64121176903401 and b is 97.75265535477467\n",
      "Iteration 16, the loss is 468.8574659503371, parameters k is 62.63492713464666 and b is 97.75265535477467\n",
      "Iteration 17, the loss is 468.8179693209547, parameters k is 62.62864250025931 and b is 97.75265535477467\n",
      "Iteration 18, the loss is 468.7784726915723, parameters k is 62.62235786587196 and b is 97.75265535477467\n",
      "Iteration 19, the loss is 468.7389760621894, parameters k is 62.61607323148461 and b is 97.75265535477467\n",
      "Iteration 20, the loss is 468.6994794328061, parameters k is 62.609788597097264 and b is 97.75265535477467\n",
      "Iteration 21, the loss is 468.659982803424, parameters k is 62.603503962709915 and b is 97.75265535477467\n",
      "Iteration 22, the loss is 468.62048617404145, parameters k is 62.597219328322566 and b is 97.75265535477467\n",
      "Iteration 23, the loss is 468.58098954465845, parameters k is 62.59093469393522 and b is 97.75265535477467\n",
      "Iteration 24, the loss is 468.54149291527557, parameters k is 62.58465005954787 and b is 97.75265535477467\n",
      "Iteration 25, the loss is 468.5019962858929, parameters k is 62.57836542516052 and b is 97.75265535477467\n",
      "Iteration 26, the loss is 468.46249965651066, parameters k is 62.57208079077317 and b is 97.75265535477467\n",
      "Iteration 27, the loss is 468.42300302712806, parameters k is 62.56579615638582 and b is 97.75265535477467\n",
      "Iteration 28, the loss is 468.3835063977451, parameters k is 62.55951152199847 and b is 97.75265535477467\n",
      "Iteration 29, the loss is 468.3440097683629, parameters k is 62.553226887611125 and b is 97.75265535477467\n",
      "Iteration 30, the loss is 468.30451313897987, parameters k is 62.546942253223776 and b is 97.75265535477467\n",
      "Iteration 31, the loss is 468.2650165095974, parameters k is 62.54065761883643 and b is 97.75265535477467\n",
      "Iteration 32, the loss is 468.2255198802138, parameters k is 62.53437298444908 and b is 97.75265535477467\n",
      "Iteration 33, the loss is 468.186023250832, parameters k is 62.52808835006173 and b is 97.75265535477467\n",
      "Iteration 34, the loss is 468.14652662144937, parameters k is 62.52180371567438 and b is 97.75265535477467\n",
      "Iteration 35, the loss is 468.10702999206666, parameters k is 62.51551908128703 and b is 97.75265535477467\n",
      "Iteration 36, the loss is 468.0675333626841, parameters k is 62.50923444689968 and b is 97.75265535477467\n",
      "Iteration 37, the loss is 468.0280367333014, parameters k is 62.502949812512334 and b is 97.75265535477467\n",
      "Iteration 38, the loss is 467.98854010391824, parameters k is 62.496665178124985 and b is 97.75265535477467\n",
      "Iteration 39, the loss is 467.9490434745362, parameters k is 62.490380543737636 and b is 97.75265535477467\n",
      "Iteration 40, the loss is 467.909546845153, parameters k is 62.48409590935029 and b is 97.75265535477467\n",
      "Iteration 41, the loss is 467.8700502157709, parameters k is 62.47781127496294 and b is 97.75265535477467\n",
      "Iteration 42, the loss is 467.8305535863873, parameters k is 62.47152664057559 and b is 97.75265535477467\n",
      "Iteration 43, the loss is 467.7910569570056, parameters k is 62.46524200618824 and b is 97.75265535477467\n",
      "Iteration 44, the loss is 467.75156032762317, parameters k is 62.45895737180089 and b is 97.75265535477467\n",
      "Iteration 45, the loss is 467.71206369824074, parameters k is 62.45267273741354 and b is 97.75265535477467\n",
      "Iteration 46, the loss is 467.6725670688575, parameters k is 62.446388103026194 and b is 97.75265535477467\n",
      "Iteration 47, the loss is 467.63307043947486, parameters k is 62.440103468638846 and b is 97.75265535477467\n",
      "Iteration 48, the loss is 467.5935738100919, parameters k is 62.4338188342515 and b is 97.75265535477467\n",
      "Iteration 49, the loss is 467.55407718070904, parameters k is 62.42753419986415 and b is 97.75265535477467\n",
      "Iteration 50, the loss is 467.51458055132656, parameters k is 62.4212495654768 and b is 97.75265535477467\n",
      "Iteration 51, the loss is 467.4750839219444, parameters k is 62.41496493108945 and b is 97.75265535477467\n",
      "Iteration 52, the loss is 467.4355872925617, parameters k is 62.4086802967021 and b is 97.75265535477467\n",
      "Iteration 53, the loss is 467.3960906631784, parameters k is 62.40239566231475 and b is 97.75265535477467\n",
      "Iteration 54, the loss is 467.3565940337964, parameters k is 62.396111027927404 and b is 97.75265535477467\n",
      "Iteration 55, the loss is 467.31709740441335, parameters k is 62.389826393540055 and b is 97.75265535477467\n",
      "Iteration 56, the loss is 467.27760077503086, parameters k is 62.383541759152706 and b is 97.75265535477467\n",
      "Iteration 57, the loss is 467.2381041456483, parameters k is 62.37725712476536 and b is 97.75265535477467\n",
      "Iteration 58, the loss is 467.1986075162656, parameters k is 62.37097249037801 and b is 97.75265535477467\n",
      "Iteration 59, the loss is 467.1591108868825, parameters k is 62.36468785599066 and b is 97.75265535477467\n",
      "Iteration 60, the loss is 467.1196142574998, parameters k is 62.35840322160331 and b is 97.75265535477467\n",
      "Iteration 61, the loss is 467.08011762811765, parameters k is 62.35211858721596 and b is 97.75265535477467\n",
      "Iteration 62, the loss is 467.04062099873533, parameters k is 62.34583395282861 and b is 97.75265535477467\n",
      "Iteration 63, the loss is 467.0011243693521, parameters k is 62.339549318441264 and b is 97.75265535477467\n",
      "Iteration 64, the loss is 466.96162773996963, parameters k is 62.333264684053916 and b is 97.75265535477467\n",
      "Iteration 65, the loss is 466.922131110587, parameters k is 62.32698004966657 and b is 97.75265535477467\n",
      "Iteration 66, the loss is 466.88263448120455, parameters k is 62.32069541527922 and b is 97.75265535477467\n",
      "Iteration 67, the loss is 466.8431378518214, parameters k is 62.31441078089187 and b is 97.75265535477467\n",
      "Iteration 68, the loss is 466.8036412224389, parameters k is 62.30812614650452 and b is 97.75265535477467\n",
      "Iteration 69, the loss is 466.76414459305596, parameters k is 62.30184151211717 and b is 97.75265535477467\n",
      "Iteration 70, the loss is 466.7246479636732, parameters k is 62.29555687772982 and b is 97.75265535477467\n",
      "Iteration 71, the loss is 466.6851513342909, parameters k is 62.289272243342474 and b is 97.75265535477467\n",
      "Iteration 72, the loss is 466.64565470490817, parameters k is 62.282987608955125 and b is 97.75265535477467\n",
      "Iteration 73, the loss is 466.6061580755257, parameters k is 62.276702974567776 and b is 97.75265535477467\n",
      "Iteration 74, the loss is 466.5666614461428, parameters k is 62.27041834018043 and b is 97.75265535477467\n",
      "Iteration 75, the loss is 466.52716481676003, parameters k is 62.26413370579308 and b is 97.75265535477467\n",
      "Iteration 76, the loss is 466.4876681873774, parameters k is 62.25784907140573 and b is 97.75265535477467\n",
      "Iteration 77, the loss is 466.44817155799484, parameters k is 62.25156443701838 and b is 97.75265535477467\n",
      "Iteration 78, the loss is 466.40867492861184, parameters k is 62.24527980263103 and b is 97.75265535477467\n",
      "Iteration 79, the loss is 466.36917829922993, parameters k is 62.23899516824368 and b is 97.75265535477467\n",
      "Iteration 80, the loss is 466.3296816698468, parameters k is 62.232710533856334 and b is 97.75265535477467\n",
      "Iteration 81, the loss is 466.29018504046405, parameters k is 62.226425899468985 and b is 97.75265535477467\n",
      "Iteration 82, the loss is 466.2506884110816, parameters k is 62.22014126508164 and b is 97.75265535477467\n",
      "Iteration 83, the loss is 466.21119178169874, parameters k is 62.21385663069429 and b is 97.75265535477467\n",
      "Iteration 84, the loss is 466.17169515231603, parameters k is 62.20757199630694 and b is 97.75265535477467\n",
      "Iteration 85, the loss is 466.13219852293344, parameters k is 62.20128736191959 and b is 97.75265535477467\n",
      "Iteration 86, the loss is 466.09270189355055, parameters k is 62.19500272753224 and b is 97.75265535477467\n",
      "Iteration 87, the loss is 466.053205264168, parameters k is 62.18871809314489 and b is 97.75265535477467\n",
      "Iteration 88, the loss is 466.0137086347852, parameters k is 62.182433458757544 and b is 97.75265535477467\n",
      "Iteration 89, the loss is 465.97421200540253, parameters k is 62.176148824370195 and b is 97.75265535477467\n",
      "Iteration 90, the loss is 465.9347153760203, parameters k is 62.169864189982846 and b is 97.75265535477467\n",
      "Iteration 91, the loss is 465.8952187466374, parameters k is 62.1635795555955 and b is 97.75265535477467\n",
      "Iteration 92, the loss is 465.8557221172548, parameters k is 62.15729492120815 and b is 97.75265535477467\n",
      "Iteration 93, the loss is 465.8162254878723, parameters k is 62.1510102868208 and b is 97.75265535477467\n",
      "Iteration 94, the loss is 465.7767288584896, parameters k is 62.14472565243345 and b is 97.75265535477467\n",
      "Iteration 95, the loss is 465.7372322291067, parameters k is 62.1384410180461 and b is 97.75265535477467\n",
      "Iteration 96, the loss is 465.6977355997237, parameters k is 62.13215638365875 and b is 97.75265535477467\n",
      "Iteration 97, the loss is 465.65823897034176, parameters k is 62.125871749271404 and b is 97.75265535477467\n",
      "Iteration 98, the loss is 465.61874234095836, parameters k is 62.119587114884055 and b is 97.75265535477467\n",
      "Iteration 99, the loss is 465.5792457115761, parameters k is 62.113302480496706 and b is 97.75265535477467\n",
      "Iteration 100, the loss is 465.53974908219345, parameters k is 62.10701784610936 and b is 97.75265535477467\n",
      "Iteration 101, the loss is 465.5002524528112, parameters k is 62.10073321172201 and b is 97.75265535477467\n",
      "Iteration 102, the loss is 465.4607558234283, parameters k is 62.09444857733466 and b is 97.75265535477467\n",
      "Iteration 103, the loss is 465.4212591940454, parameters k is 62.08816394294731 and b is 97.75265535477467\n",
      "Iteration 104, the loss is 465.3817625646627, parameters k is 62.08187930855996 and b is 97.75265535477467\n",
      "Iteration 105, the loss is 465.3422659352802, parameters k is 62.07559467417261 and b is 97.75265535477467\n",
      "Iteration 106, the loss is 465.30276930589724, parameters k is 62.069310039785265 and b is 97.75265535477467\n",
      "Iteration 107, the loss is 465.2632726765148, parameters k is 62.063025405397916 and b is 97.75265535477467\n",
      "Iteration 108, the loss is 465.22377604713193, parameters k is 62.05674077101057 and b is 97.75265535477467\n",
      "Iteration 109, the loss is 465.1842794177497, parameters k is 62.05045613662322 and b is 97.75265535477467\n",
      "Iteration 110, the loss is 465.14478278836685, parameters k is 62.04417150223587 and b is 97.75265535477467\n",
      "Iteration 111, the loss is 465.1052861589843, parameters k is 62.03788686784852 and b is 97.75265535477467\n",
      "Iteration 112, the loss is 465.06578952960143, parameters k is 62.03160223346117 and b is 97.75265535477467\n",
      "Iteration 113, the loss is 465.02629290021895, parameters k is 62.02531759907382 and b is 97.75265535477467\n",
      "Iteration 114, the loss is 464.9867962708359, parameters k is 62.019032964686474 and b is 97.75265535477467\n",
      "Iteration 115, the loss is 464.94729964145324, parameters k is 62.012748330299125 and b is 97.75265535477467\n",
      "Iteration 116, the loss is 464.907803012071, parameters k is 62.006463695911776 and b is 97.75265535477467\n",
      "Iteration 117, the loss is 464.8683063826887, parameters k is 62.00017906152443 and b is 97.75265535477467\n",
      "Iteration 118, the loss is 464.8288097533055, parameters k is 61.99389442713708 and b is 97.75265535477467\n",
      "Iteration 119, the loss is 464.7893131239232, parameters k is 61.98760979274973 and b is 97.75265535477467\n",
      "Iteration 120, the loss is 464.7498164945405, parameters k is 61.98132515836238 and b is 97.75265535477467\n",
      "Iteration 121, the loss is 464.7103198651574, parameters k is 61.97504052397503 and b is 97.75265535477467\n",
      "Iteration 122, the loss is 464.67082323577506, parameters k is 61.96875588958768 and b is 97.75265535477467\n",
      "Iteration 123, the loss is 464.63132660639207, parameters k is 61.962471255200334 and b is 97.75265535477467\n",
      "Iteration 124, the loss is 464.5918299770099, parameters k is 61.956186620812986 and b is 97.75265535477467\n",
      "Iteration 125, the loss is 464.55233334762664, parameters k is 61.94990198642564 and b is 97.75265535477467\n",
      "Iteration 126, the loss is 464.51283671824393, parameters k is 61.94361735203829 and b is 97.75265535477467\n",
      "Iteration 127, the loss is 464.4733400888616, parameters k is 61.93733271765094 and b is 97.75265535477467\n",
      "Iteration 128, the loss is 464.43384345947885, parameters k is 61.93104808326359 and b is 97.75265535477467\n",
      "Iteration 129, the loss is 464.39434683009597, parameters k is 61.92476344887624 and b is 97.75265535477467\n",
      "Iteration 130, the loss is 464.35485020071326, parameters k is 61.91847881448889 and b is 97.75265535477467\n",
      "Iteration 131, the loss is 464.3153535713307, parameters k is 61.912194180101544 and b is 97.75265535477467\n",
      "Iteration 132, the loss is 464.27585694194823, parameters k is 61.905909545714195 and b is 97.75265535477467\n",
      "Iteration 133, the loss is 464.2363603125651, parameters k is 61.899624911326846 and b is 97.75265535477467\n",
      "Iteration 134, the loss is 464.1968636831829, parameters k is 61.8933402769395 and b is 97.75265535477467\n",
      "Iteration 135, the loss is 464.1573670538002, parameters k is 61.88705564255215 and b is 97.75265535477467\n",
      "Iteration 136, the loss is 464.11787042441733, parameters k is 61.8807710081648 and b is 97.75265535477467\n",
      "Iteration 137, the loss is 464.0783737950352, parameters k is 61.87448637377745 and b is 97.75265535477467\n",
      "Iteration 138, the loss is 464.03887716565237, parameters k is 61.8682017393901 and b is 97.75265535477467\n",
      "Iteration 139, the loss is 463.9993805362696, parameters k is 61.86191710500275 and b is 97.75265535477467\n",
      "Iteration 140, the loss is 463.9598839068867, parameters k is 61.855632470615404 and b is 97.75265535477467\n",
      "Iteration 141, the loss is 463.9203872775038, parameters k is 61.849347836228056 and b is 97.75265535477467\n",
      "Iteration 142, the loss is 463.88089064812164, parameters k is 61.84306320184071 and b is 97.75265535477467\n",
      "Iteration 143, the loss is 463.84139401873875, parameters k is 61.83677856745336 and b is 97.75265535477467\n",
      "Iteration 144, the loss is 463.80189738935576, parameters k is 61.83049393306601 and b is 97.75265535477467\n",
      "Iteration 145, the loss is 463.76240075997345, parameters k is 61.82420929867866 and b is 97.75265535477467\n",
      "Iteration 146, the loss is 463.722904130591, parameters k is 61.81792466429131 and b is 97.75265535477467\n",
      "Iteration 147, the loss is 463.683407501208, parameters k is 61.81164002990396 and b is 97.75265535477467\n",
      "Iteration 148, the loss is 463.6439108718254, parameters k is 61.805355395516614 and b is 97.75265535477467\n",
      "Iteration 149, the loss is 463.6044142424432, parameters k is 61.799070761129265 and b is 97.75265535477467\n",
      "Iteration 150, the loss is 463.5649176130601, parameters k is 61.792786126741916 and b is 97.75265535477467\n",
      "Iteration 151, the loss is 463.52542098367775, parameters k is 61.78650149235457 and b is 97.75265535477467\n",
      "Iteration 152, the loss is 463.485924354295, parameters k is 61.78021685796722 and b is 97.75265535477467\n",
      "Iteration 153, the loss is 463.44642772491227, parameters k is 61.77393222357987 and b is 97.75265535477467\n",
      "Iteration 154, the loss is 463.40693109553, parameters k is 61.76764758919252 and b is 97.75265535477467\n",
      "Iteration 155, the loss is 463.3674344661466, parameters k is 61.76136295480517 and b is 97.75265535477467\n",
      "Iteration 156, the loss is 463.32793783676397, parameters k is 61.75507832041782 and b is 97.75265535477467\n",
      "Iteration 157, the loss is 463.28844120738154, parameters k is 61.748793686030474 and b is 97.75265535477467\n",
      "Iteration 158, the loss is 463.2489445779986, parameters k is 61.742509051643125 and b is 97.75265535477467\n",
      "Iteration 159, the loss is 463.2094479486167, parameters k is 61.73622441725578 and b is 97.75265535477467\n",
      "Iteration 160, the loss is 463.16995131923335, parameters k is 61.72993978286843 and b is 97.75265535477467\n",
      "Iteration 161, the loss is 463.1304546898508, parameters k is 61.72365514848108 and b is 97.75265535477467\n",
      "Iteration 162, the loss is 463.0909580604681, parameters k is 61.71737051409373 and b is 97.75265535477467\n",
      "Iteration 163, the loss is 463.0514614310853, parameters k is 61.71108587970638 and b is 97.75265535477467\n",
      "Iteration 164, the loss is 463.01196480170296, parameters k is 61.70480124531903 and b is 97.75265535477467\n",
      "Iteration 165, the loss is 462.9724681723204, parameters k is 61.698516610931684 and b is 97.75265535477467\n",
      "Iteration 166, the loss is 462.9329715429378, parameters k is 61.692231976544335 and b is 97.75265535477467\n"
     ]
    },
    {
     "name": "stdout",
     "output_type": "stream",
     "text": [
      "Iteration 167, the loss is 462.8934749135549, parameters k is 61.685947342156986 and b is 97.75265535477467\n",
      "Iteration 168, the loss is 462.85397828417257, parameters k is 61.67966270776964 and b is 97.75265535477467\n",
      "Iteration 169, the loss is 462.8144816547891, parameters k is 61.67337807338229 and b is 97.75265535477467\n",
      "Iteration 170, the loss is 462.7749850254069, parameters k is 61.66709343899494 and b is 97.75265535477467\n",
      "Iteration 171, the loss is 462.73548839602427, parameters k is 61.66080880460759 and b is 97.75265535477467\n",
      "Iteration 172, the loss is 462.6959917666413, parameters k is 61.65452417022024 and b is 97.75265535477467\n",
      "Iteration 173, the loss is 462.6564951372585, parameters k is 61.64823953583289 and b is 97.75265535477467\n",
      "Iteration 174, the loss is 462.6169985078758, parameters k is 61.641954901445544 and b is 97.75265535477467\n",
      "Iteration 175, the loss is 462.57750187849314, parameters k is 61.635670267058195 and b is 97.75265535477467\n",
      "Iteration 176, the loss is 462.53800524911054, parameters k is 61.62938563267085 and b is 97.75265535477467\n",
      "Iteration 177, the loss is 462.49850861972817, parameters k is 61.6231009982835 and b is 97.75265535477467\n",
      "Iteration 178, the loss is 462.4590119903457, parameters k is 61.61681636389615 and b is 97.75265535477467\n",
      "Iteration 179, the loss is 462.41951536096286, parameters k is 61.6105317295088 and b is 97.75265535477467\n",
      "Iteration 180, the loss is 462.3800187315802, parameters k is 61.60424709512145 and b is 97.75265535477467\n",
      "Iteration 181, the loss is 462.3405221021973, parameters k is 61.5979624607341 and b is 97.75265535477467\n",
      "Iteration 182, the loss is 462.3010254728149, parameters k is 61.59167782634675 and b is 97.75265535477467\n",
      "Iteration 183, the loss is 462.26152884343173, parameters k is 61.585393191959405 and b is 97.75265535477467\n",
      "Iteration 184, the loss is 462.22203221404953, parameters k is 61.579108557572056 and b is 97.75265535477467\n",
      "Iteration 185, the loss is 462.18253558466694, parameters k is 61.57282392318471 and b is 97.75265535477467\n",
      "Iteration 186, the loss is 462.1430389552842, parameters k is 61.56653928879736 and b is 97.75265535477467\n",
      "Iteration 187, the loss is 462.1035423259016, parameters k is 61.56025465441001 and b is 97.75265535477467\n",
      "Iteration 188, the loss is 462.06404569651903, parameters k is 61.55397002002266 and b is 97.75265535477467\n",
      "Iteration 189, the loss is 462.02454906713587, parameters k is 61.54768538563531 and b is 97.75265535477467\n",
      "Iteration 190, the loss is 461.9850524377534, parameters k is 61.54140075124796 and b is 97.75265535477467\n",
      "Iteration 191, the loss is 461.9455558083713, parameters k is 61.535116116860614 and b is 97.75265535477467\n",
      "Iteration 192, the loss is 461.90605917898773, parameters k is 61.528831482473265 and b is 97.75265535477467\n",
      "Iteration 193, the loss is 461.86656254960525, parameters k is 61.522546848085916 and b is 97.75265535477467\n",
      "Iteration 194, the loss is 461.8270659202233, parameters k is 61.51626221369857 and b is 97.75265535477467\n",
      "Iteration 195, the loss is 461.78756929084034, parameters k is 61.50997757931122 and b is 97.75265535477467\n",
      "Iteration 196, the loss is 461.7480726614578, parameters k is 61.50369294492387 and b is 97.75265535477467\n",
      "Iteration 197, the loss is 461.7085760320754, parameters k is 61.49740831053652 and b is 97.75265535477467\n",
      "Iteration 198, the loss is 461.66907940269226, parameters k is 61.49112367614917 and b is 97.75265535477467\n",
      "Iteration 199, the loss is 461.6295827733096, parameters k is 61.48483904176182 and b is 97.75265535477467\n"
     ]
    }
   ],
   "source": [
    "#initialized parameters\n",
    "\n",
    "k = random.random() * 200 - 100  # -100 100\n",
    "b = random.random() * 200 - 100  # -100 100\n",
    "\n",
    "learning_rate = 1e-3\n",
    "\n",
    "iteration_num = 200 \n",
    "losses = []\n",
    "for i in range(iteration_num):\n",
    "    \n",
    "    price_use_current_parameters = [price(r, k, b) for r in X_rm]  # \\hat{y}\n",
    "    \n",
    "    current_loss = loss(y, price_use_current_parameters)\n",
    "    losses.append(current_loss)\n",
    "    print(\"Iteration {}, the loss is {}, parameters k is {} and b is {}\".format(i,current_loss,k,b))\n",
    "    \n",
    "    k_gradient = partial_derivative_k(X_rm, y, price_use_current_parameters)\n",
    "    b_gradient = 0#partial_derivative_b(y, price_use_current_parameters)\n",
    "    \n",
    "    k = k + (-1 * k_gradient) * learning_rate\n",
    "    b = b + (-1 * b_gradient) * learning_rate\n",
    "best_k = k\n",
    "best_b = b"
   ]
  },
  {
   "cell_type": "markdown",
   "metadata": {},
   "source": [
    "<评阅点>\n",
    "+ 是否将Loss改成了“绝对值”(3')\n",
    "+ 是否完成了偏导的重新定义(5')\n",
    "+ 新的模型Loss是否能够收敛 (11’)"
   ]
  },
  {
   "cell_type": "markdown",
   "metadata": {},
   "source": []
  }
 ],
 "metadata": {
  "kernelspec": {
   "display_name": "Python 3",
   "language": "python",
   "name": "python3"
  },
  "language_info": {
   "codemirror_mode": {
    "name": "ipython",
    "version": 3
   },
   "file_extension": ".py",
   "mimetype": "text/x-python",
   "name": "python",
   "nbconvert_exporter": "python",
   "pygments_lexer": "ipython3",
   "version": "3.6.8"
  }
 },
 "nbformat": 4,
 "nbformat_minor": 2
}
